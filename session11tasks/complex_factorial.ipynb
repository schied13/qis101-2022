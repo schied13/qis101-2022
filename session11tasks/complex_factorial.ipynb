{
 "cells": [
  {
   "cell_type": "code",
   "execution_count": 2,
   "id": "297e1a53-5543-4adb-b945-b49476d77e3b",
   "metadata": {},
   "outputs": [
    {
     "data": {
      "text/latex": [
       "$\\displaystyle i!=(0.49801566822714743-0.15494982822468645j)$"
      ],
      "text/plain": [
       "<IPython.core.display.Math object>"
      ]
     },
     "metadata": {},
     "output_type": "display_data"
    }
   ],
   "source": [
    "# complex_factorial.ipynb\n",
    "# Cell 1\n",
    "\n",
    "\n",
    "import numpy as np\n",
    "from IPython.display import Math\n",
    "import scipy.integrate\n",
    "from scipy import imag\n",
    "\n",
    "\n",
    "def f(x):\n",
    "    #function that is being integrated found using eulers gamma function\n",
    "    return np.exp(complex(0,np.log(x)))*np.exp(-x)\n",
    "\n",
    "def img_f(x):\n",
    "    #Calls the function f then takes only the imaginary part\n",
    "    return np.imag(f(x))\n",
    "\n",
    "def inte():\n",
    "    #obtains real portion of the result\n",
    "    num = scipy.integrate.quad(f,0,np.inf)[0]\n",
    "    #obtains the imaginary portions of the result\n",
    "    num1 = scipy.integrate.quad(img_f,0,np.inf)[0]\n",
    "    \n",
    "    #puts the two parts of the result into standard complex form\n",
    "    num2 = num +1j*num1\n",
    "    \n",
    "    \n",
    "    display(Math(f\"i!={num2}\"))\n",
    "\n",
    "\n",
    "inte()"
   ]
  },
  {
   "cell_type": "code",
   "execution_count": null,
   "id": "d1793b08-1349-4c03-a479-e0299ddd9a12",
   "metadata": {},
   "outputs": [],
   "source": []
  },
  {
   "cell_type": "code",
   "execution_count": null,
   "id": "4d524acb-3d4f-4486-bb74-908612159dcd",
   "metadata": {},
   "outputs": [],
   "source": []
  }
 ],
 "metadata": {
  "kernelspec": {
   "display_name": "Python 3 (ipykernel)",
   "language": "python",
   "name": "python3"
  },
  "language_info": {
   "codemirror_mode": {
    "name": "ipython",
    "version": 3
   },
   "file_extension": ".py",
   "mimetype": "text/x-python",
   "name": "python",
   "nbconvert_exporter": "python",
   "pygments_lexer": "ipython3",
   "version": "3.9.13"
  }
 },
 "nbformat": 4,
 "nbformat_minor": 5
}
