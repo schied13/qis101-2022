{
 "cells": [
  {
   "cell_type": "code",
   "execution_count": null,
   "id": "9a96e3c0-c4f8-416b-b977-baba1f77d8f0",
   "metadata": {},
   "outputs": [],
   "source": [
    "# majority_vote.ipynb\n",
    "\n",
    "# Cell 1 - True & False as vectors\n",
    "\n",
    "import numpy as np\n",
    "from IPython.display import Math\n",
    "from qiskit.visualization import array_to_latex\n",
    "#outer square brackets declare 2d matrix\n",
    "f = np.array([[1], [0]])\n",
    "t = np.array([[0], [1]])\n",
    "\n",
    "display(array_to_latex(f, prefix=r\"\\mathbf{F}=0=\"))\n",
    "display(array_to_latex(t, prefix=r\"\\mathbf{T}=1=\"))"
   ]
  }
 ],
 "metadata": {
  "kernelspec": {
   "display_name": "Python 3 (ipykernel)",
   "language": "python",
   "name": "python3"
  },
  "language_info": {
   "codemirror_mode": {
    "name": "ipython",
    "version": 3
   },
   "file_extension": ".py",
   "mimetype": "text/x-python",
   "name": "python",
   "nbconvert_exporter": "python",
   "pygments_lexer": "ipython3",
   "version": "3.9.13"
  }
 },
 "nbformat": 4,
 "nbformat_minor": 5
}
