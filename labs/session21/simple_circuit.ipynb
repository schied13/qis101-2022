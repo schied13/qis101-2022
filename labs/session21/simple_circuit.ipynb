{
 "cells": [
  {
   "cell_type": "code",
   "execution_count": 7,
   "id": "278d9f63-d964-4b20-a3a3-0125c8e30505",
   "metadata": {},
   "outputs": [
    {
     "data": {
      "text/latex": [
       "$$\n",
       "\\mathbf{F}=\n",
       "\\begin{bmatrix}\n",
       "1 & 0  \\\\\n",
       " \\end{bmatrix}\n",
       "$$"
      ],
      "text/plain": [
       "<IPython.core.display.Latex object>"
      ]
     },
     "metadata": {},
     "output_type": "display_data"
    },
    {
     "data": {
      "text/latex": [
       "$$\n",
       "\\mathbf{T}=\n",
       "\\begin{bmatrix}\n",
       "0 & 1  \\\\\n",
       " \\end{bmatrix}\n",
       "$$"
      ],
      "text/plain": [
       "<IPython.core.display.Latex object>"
      ]
     },
     "metadata": {},
     "output_type": "display_data"
    },
    {
     "data": {
      "text/latex": [
       "$$\n",
       "\\mathbf{AND}=\n",
       "\\begin{bmatrix}\n",
       "1 & 1 & 1 & 0  \\\\\n",
       " 0 & 0 & 0 & 1  \\\\\n",
       " \\end{bmatrix}\n",
       "$$"
      ],
      "text/plain": [
       "<IPython.core.display.Latex object>"
      ]
     },
     "metadata": {},
     "output_type": "display_data"
    },
    {
     "data": {
      "text/latex": [
       "$$\n",
       "\\mathbf{OR}=\n",
       "\\begin{bmatrix}\n",
       "1 & 0 & 0 & 0  \\\\\n",
       " 0 & 1 & 1 & 1  \\\\\n",
       " \\end{bmatrix}\n",
       "$$"
      ],
      "text/plain": [
       "<IPython.core.display.Latex object>"
      ]
     },
     "metadata": {},
     "output_type": "display_data"
    }
   ],
   "source": [
    "# simple_circuit.ipynb\n",
    "\n",
    "# Cell 1\n",
    "\n",
    "import numpy as np\n",
    "from IPython.display import Math\n",
    "from qiskit.visualization import array_to_latex\n",
    "\n",
    "f = np.array([1, 0])\n",
    "t = np.array([0, 1])\n",
    "\n",
    "\n",
    "g_and = np.array([[1, 1, 1, 0], [0, 0, 0, 1]])\n",
    "g_or = np.array([[1, 0, 0, 0], [0, 1, 1, 1]])\n",
    "\n",
    "display(array_to_latex(f, prefix=r\"\\mathbf{F}=\"))\n",
    "display(array_to_latex(t, prefix=r\"\\mathbf{T}=\"))\n",
    "\n",
    "\n",
    "display(array_to_latex(g_and, prefix=r\"\\mathbf{AND}=\"))\n",
    "display(array_to_latex(g_or, prefix=r\"\\mathbf{OR}=\"))"
   ]
  },
  {
   "cell_type": "code",
   "execution_count": 8,
   "id": "a582a126-1b37-4493-844e-e44674aaa350",
   "metadata": {},
   "outputs": [],
   "source": [
    "# Cell 2 - Implement Boolean circuit using matrix algebra\n",
    "\n",
    "#passing in true or false matrices( aka 2x1 encoding of a classical bit)\n",
    "def circuit(a, b, c):\n",
    "    # and of a and b\n",
    "    g1 = np.dot(g_and, np.kron(a, b))\n",
    "    #and of b and c\n",
    "    g2 = np.dot(g_and, np.kron(b,c))\n",
    "    #and of c and a\n",
    "    g3 = np.dot(g_and, np.kron(c,a))\n",
    "    #or of g1 and g2\n",
    "    g4 = np.dot(g_or, np.kron(g1, g2))\n",
    "    #or of g3 and g4\n",
    "    g5 = np.dot(g_or, np.kron(g3,g4))\n",
    "    #returns the output of g5\n",
    "    return g5"
   ]
  },
  {
   "cell_type": "code",
   "execution_count": 9,
   "id": "f4a04d5b-7548-426c-9346-d63d14b2b4cd",
   "metadata": {},
   "outputs": [
    {
     "name": "stdout",
     "output_type": "stream",
     "text": [
      "a: [1 0]  b: [1 0]  c: [1 0]  v: [1 0]\n",
      "a: [1 0]  b: [1 0]  c: [0 1]  v: [1 0]\n",
      "a: [1 0]  b: [0 1]  c: [1 0]  v: [1 0]\n",
      "a: [1 0]  b: [0 1]  c: [0 1]  v: [0 1]\n",
      "a: [0 1]  b: [1 0]  c: [1 0]  v: [1 0]\n",
      "a: [0 1]  b: [1 0]  c: [0 1]  v: [0 1]\n",
      "a: [0 1]  b: [0 1]  c: [1 0]  v: [0 1]\n",
      "a: [0 1]  b: [0 1]  c: [0 1]  v: [0 1]\n"
     ]
    }
   ],
   "source": [
    "# Cell 3 - Create truth table for three inputs and show the output\n",
    "\n",
    "for a in [f, t]:#its going to go through false then to true from before \n",
    "    for b in [f, t]:# goes false then true f being the first value in the list then t being the second value\n",
    "        for c in [f, t]:#goes false then true\n",
    "            #prints each vector\n",
    "            print(f\"a: {a}\", end=\"  \")\n",
    "            print(f\"b: {b}\", end=\"  \")\n",
    "            print(f\"c: {c}\", end=\"  \")\n",
    "            print(f\"v: {circuit(a, b, c)}\")"
   ]
  },
  {
   "cell_type": "code",
   "execution_count": null,
   "id": "e3c83a8c-cafe-4ef8-97f4-feb84f4fece8",
   "metadata": {},
   "outputs": [],
   "source": []
  }
 ],
 "metadata": {
  "kernelspec": {
   "display_name": "Python 3 (ipykernel)",
   "language": "python",
   "name": "python3"
  },
  "language_info": {
   "codemirror_mode": {
    "name": "ipython",
    "version": 3
   },
   "file_extension": ".py",
   "mimetype": "text/x-python",
   "name": "python",
   "nbconvert_exporter": "python",
   "pygments_lexer": "ipython3",
   "version": "3.9.13"
  }
 },
 "nbformat": 4,
 "nbformat_minor": 5
}
