{
 "cells": [
  {
   "cell_type": "code",
   "execution_count": 9,
   "id": "536fba90-2b98-4a94-bff4-36abaeefeb7d",
   "metadata": {},
   "outputs": [
    {
     "name": "stdout",
     "output_type": "stream",
     "text": [
      "2323 in octal = 1,235 in decimal\n"
     ]
    }
   ],
   "source": [
    "# octal_converter.ipynb\n",
    "\n",
    "# Cell 1 - Octal to Decimal\n",
    "\n",
    "import numpy as np\n",
    "\n",
    "\n",
    "def octal_to_decimal(o):\n",
    "    # Reverse string 'b' because the\n",
    "    # LSB must be in first position\n",
    "    o= o[::-1]\n",
    "    sum = 0\n",
    "    for position in range(len(o)):\n",
    "        weight = pow(8, position)\n",
    "        digit = int(o[position])\n",
    "        sum += digit * weight\n",
    "    return sum\n",
    "\n",
    "\n",
    "o = \"2323\"\n",
    "d = octal_to_decimal(o)\n",
    "print(f\"{o} in octal = {d:,} in decimal\")"
   ]
  },
  {
   "cell_type": "code",
   "execution_count": 40,
   "id": "84762fe8-f47d-4f9e-91a9-5e1fc784b8d4",
   "metadata": {},
   "outputs": [
    {
     "name": "stdout",
     "output_type": "stream",
     "text": [
      "1,235 in decimal = 2323 in octal\n"
     ]
    }
   ],
   "source": [
    "# Cell 2 - Decimal to Octal\n",
    "\n",
    "\n",
    "def decimal_to_octal(d):\n",
    "    o = \"\"\n",
    "    while d > 0:\n",
    "        o += str(d % 8)\n",
    "        d = int(d / 8)\n",
    "    # Reverse string 'b' because the\n",
    "    # LSB must be in first position\n",
    "    o = o[::-1]\n",
    "    return o\n",
    "\n",
    "\n",
    "\n",
    "o = decimal_to_octal(d)\n",
    "print(f\"{d:,} in decimal = {o} in octal\")"
   ]
  },
  {
   "cell_type": "code",
   "execution_count": 43,
   "id": "1c43c6cb-a6a5-4912-a662-e0521bc5d091",
   "metadata": {},
   "outputs": [
    {
     "name": "stdout",
     "output_type": "stream",
     "text": [
      "2323 in octal = 1,235 in decimal\n"
     ]
    }
   ],
   "source": [
    "# Cell 3 - Octal to Decimal non looping\n",
    "\n",
    "def nl_octal_to_decimal(o):\n",
    "    #takes the string objet 2323 and converts it from a number with base 8 to a number with a base 10\n",
    "    temp = int(o,base=8)\n",
    "    return temp\n",
    "\n",
    "o = str(2323)\n",
    "\n",
    "d = nl_octal_to_decimal(o)\n",
    "\n",
    "print(f\"{o} in octal = {d:,} in decimal\")"
   ]
  },
  {
   "cell_type": "code",
   "execution_count": 45,
   "id": "493afa44-7816-4566-b222-07cd3dd0848c",
   "metadata": {},
   "outputs": [
    {
     "name": "stdout",
     "output_type": "stream",
     "text": [
      "1,235 in decimal = 2323 in octal\n"
     ]
    }
   ],
   "source": [
    "# Cell 4 - Decimal to Octal non looping\n",
    "def nl_decimal_to_octal(d):\n",
    "    #converts d the base 10 reprsentation of 2323 into base 8 or octal\n",
    "    return np.base_repr(d,base = 8)\n",
    "\n",
    "#conver decimal number calculated in previous cellback to octal\n",
    "\n",
    "o = nl_decimal_to_octal(d)\n",
    "\n",
    "print(f\"{d:,} in decimal = {o} in octal\")"
   ]
  },
  {
   "cell_type": "code",
   "execution_count": null,
   "id": "8722b4ea-a9ce-4fb9-b7d8-3667dff78301",
   "metadata": {},
   "outputs": [],
   "source": []
  }
 ],
 "metadata": {
  "kernelspec": {
   "display_name": "Python 3 (ipykernel)",
   "language": "python",
   "name": "python3"
  },
  "language_info": {
   "codemirror_mode": {
    "name": "ipython",
    "version": 3
   },
   "file_extension": ".py",
   "mimetype": "text/x-python",
   "name": "python",
   "nbconvert_exporter": "python",
   "pygments_lexer": "ipython3",
   "version": "3.9.13"
  }
 },
 "nbformat": 4,
 "nbformat_minor": 5
}
