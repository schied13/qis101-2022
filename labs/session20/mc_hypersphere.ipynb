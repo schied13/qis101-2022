{
 "cells": [
  {
   "cell_type": "code",
   "execution_count": 1,
   "id": "db9284d4-7e59-4837-aabb-4c71fd6a437f",
   "metadata": {},
   "outputs": [
    {
     "data": {
      "text/html": [
       "<p>Testing 6,250,000 dots . . .</p>"
      ],
      "text/plain": [
       "<IPython.core.display.HTML object>"
      ]
     },
     "metadata": {},
     "output_type": "display_data"
    },
    {
     "data": {
      "text/html": [
       "<p>Act. Volume  = 4.934802</p><p>Est. Volume  = 4.934543</p><p>% Rel Err    = -0.005245%</p>"
      ],
      "text/plain": [
       "<IPython.core.display.HTML object>"
      ]
     },
     "metadata": {},
     "output_type": "display_data"
    }
   ],
   "source": [
    "# mc_hypersphere.ipynb\n",
    "\n",
    "import numpy as np\n",
    "from IPython.display import HTML, display\n",
    "from numba import float64, vectorize\n",
    "\n",
    "\n",
    "@vectorize([float64(float64, float64)], nopython=True)\n",
    "def halton(n, p):\n",
    "    h, f = 0, 1\n",
    "    while n > 0:\n",
    "        f = f / p\n",
    "        h += (n % p) * f\n",
    "        n = int(n / p)\n",
    "    return h\n",
    "\n",
    "\n",
    "def main():\n",
    "    iterations = 6_250_000\n",
    "    \n",
    "    #Can use HTML tags\n",
    "    display(HTML(f\"<p>Testing {iterations:,} dots . . .</p>\"))\n",
    "\n",
    "    primes = [2, 3, 5, 7] #4 primes\n",
    "\n",
    "    x = halton(np.arange(iterations), primes[0]) * 2 - 1\n",
    "    y = halton(np.arange(iterations), primes[1]) * 2 - 1\n",
    "    z = halton(np.arange(iterations), primes[2]) * 2 - 1\n",
    "    w = halton(np.arange(iterations), primes[3]) * 2 - 1\n",
    "\n",
    "    d = x**2 + y**2 + z**2 + w**2\n",
    "\n",
    "    est_volume = np.count_nonzero(d <= 1.0) / iterations * 16#multiple by 16 2^4\n",
    "\n",
    "    act_volume = np.pi**2 / 2.0\n",
    "    err = (est_volume - act_volume) / act_volume\n",
    "\n",
    "    display(\n",
    "        HTML(\n",
    "            f\"<p>Act. Volume  = {act_volume:.6f}</p>\"\n",
    "            f\"<p>Est. Volume  = {est_volume:.6f}</p>\"\n",
    "            f\"<p>% Rel Err    = {err:.6%}</p>\"\n",
    "        )\n",
    "    )\n",
    "\n",
    "\n",
    "main()"
   ]
  },
  {
   "cell_type": "code",
   "execution_count": null,
   "id": "a3636830-4503-40a3-9000-a7ac4fa24f9c",
   "metadata": {},
   "outputs": [],
   "source": []
  }
 ],
 "metadata": {
  "kernelspec": {
   "display_name": "Python 3 (ipykernel)",
   "language": "python",
   "name": "python3"
  },
  "language_info": {
   "codemirror_mode": {
    "name": "ipython",
    "version": 3
   },
   "file_extension": ".py",
   "mimetype": "text/x-python",
   "name": "python",
   "nbconvert_exporter": "python",
   "pygments_lexer": "ipython3",
   "version": "3.9.13"
  }
 },
 "nbformat": 4,
 "nbformat_minor": 5
}
