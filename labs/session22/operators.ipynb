{
 "cells": [
  {
   "cell_type": "code",
   "execution_count": 1,
   "id": "1eab46f0-7605-4f15-98fb-d0687598250b",
   "metadata": {},
   "outputs": [
    {
     "data": {
      "text/latex": [
       "$$\n",
       "\\mathbf{\\lvert\\psi\\rangle}=\n",
       "\\begin{bmatrix}\n",
       "0.89671 + 0.64257i  \\\\\n",
       " 0.73024 + 0.22486i  \\\\\n",
       " 0.78328 + 0.70855i  \\\\\n",
       " 0.74165 + 0.74713i  \\\\\n",
       " 0.46209 + 0.62511i  \\\\\n",
       " \\end{bmatrix}\n",
       "$$"
      ],
      "text/plain": [
       "<IPython.core.display.Latex object>"
      ]
     },
     "metadata": {},
     "output_type": "display_data"
    },
    {
     "data": {
      "text/latex": [
       "$$\n",
       "\\mathbf{\\lvert\\phi\\rangle}=\n",
       "\\begin{bmatrix}\n",
       "0.57996 + 0.58879i  \\\\\n",
       " 0.24264 + 0.06935i  \\\\\n",
       " 0.13196 + 0.94283i  \\\\\n",
       " 0.14395 + 0.3726i  \\\\\n",
       " 0.60364 + 0.45199i  \\\\\n",
       " \\end{bmatrix}\n",
       "$$"
      ],
      "text/plain": [
       "<IPython.core.display.Latex object>"
      ]
     },
     "metadata": {},
     "output_type": "display_data"
    }
   ],
   "source": [
    "# operators.ipynb\n",
    "\n",
    "# Cell 1 - Create two random state vectors (not normalized)\n",
    "\n",
    "import numpy as np\n",
    "\n",
    "# import random\n",
    "from IPython.display import Math\n",
    "from qiskit.visualization import array_to_latex\n",
    "\n",
    "np.random.seed(2016)\n",
    "n = 5\n",
    "#generates two random uniformly distributed state vectors \n",
    "psi = np.random.random(n) + np.random.random(n) * 1j\n",
    "phi = np.random.random(n) + np.random.random(n) * 1j\n",
    "\n",
    "#np.newaxis in order to allow us to pass it into Array to Latex\n",
    "display(array_to_latex(psi[:, np.newaxis], prefix=r\"\\mathbf{\\lvert\\psi\\rangle}=\"))\n",
    "display(array_to_latex(phi[:, np.newaxis], prefix=r\"\\mathbf{\\lvert\\phi\\rangle}=\"))"
   ]
  },
  {
   "cell_type": "code",
   "execution_count": 3,
   "id": "c60d51ad-4bf3-48f3-89f1-0154e7803835",
   "metadata": {},
   "outputs": [
    {
     "data": {
      "text/latex": [
       "$$\n",
       "\\mathbf{\\hat{O}}=\n",
       "\\begin{bmatrix}\n",
       "0.26129 & 0.72711 + 0.14506i & 0.39107 + 0.03004i & 0.77762 + 0.77184i & 0.755 + 0.02793i  \\\\\n",
       " 0.72711 - 0.14506i & 0.54113 & 0.64271 + 0.63236i & 0.55655 + 0.18728i & 0.31385 + 0.91334i  \\\\\n",
       " 0.39107 - 0.03004i & 0.64271 - 0.63236i & 0.85507 & 0.63653 + 0.81532i & 0.18241 + 0.75628i  \\\\\n",
       " 0.77762 - 0.77184i & 0.55655 - 0.18728i & 0.63653 - 0.81532i & 0.30983 & 0.83778 + 0.32289i  \\\\\n",
       " 0.755 - 0.02793i & 0.31385 - 0.91334i & 0.18241 - 0.75628i & 0.83778 - 0.32289i & 0.25083  \\\\\n",
       " \\end{bmatrix}\n",
       "$$"
      ],
      "text/plain": [
       "<IPython.core.display.Latex object>"
      ]
     },
     "metadata": {},
     "output_type": "display_data"
    }
   ],
   "source": [
    "# Cell 2 - Create a Hermitian Operator (as a matrix)\n",
    "\n",
    "\n",
    "def create_hermitian_matrix(n):\n",
    "    a = np.zeros((n, n), dtype=complex)#creates a matrix of nxn dimenesion wiht complex numbers filled with 0s\n",
    "    for i in range(n):\n",
    "        for j in range(i, n):\n",
    "            r1 = np.random.random()\n",
    "            r2 = np.random.random()\n",
    "            if i == j:\n",
    "                #main diagonal construction\n",
    "                a[i, j] = complex(r1, 0)# if i and j are qual then set the imaginary component to 0\n",
    "            else:\n",
    "                #mirrored have to be conjugates\n",
    "                #above and below diagonal construction\n",
    "                a[i, j] = complex(r1, r2)\n",
    "                a[j, i] = complex(r1, -r2)\n",
    "    return a\n",
    "\n",
    "\n",
    "op = create_hermitian_matrix(n)\n",
    "\n",
    "display(array_to_latex(op, prefix=r\"\\mathbf{\\hat{O}}=\"))"
   ]
  },
  {
   "cell_type": "code",
   "execution_count": 5,
   "id": "df5958db-3772-475b-9af0-e95d47c0409e",
   "metadata": {},
   "outputs": [
    {
     "data": {
      "text/latex": [
       "$$\n",
       "\\mathbf{\\lambda}=\n",
       "\\begin{bmatrix}\n",
       "3.45989 & 0.8037 & 0.21235 & -1.38734 & -0.87045  \\\\\n",
       " \\end{bmatrix}\n",
       "$$"
      ],
      "text/plain": [
       "<IPython.core.display.Latex object>"
      ]
     },
     "metadata": {},
     "output_type": "display_data"
    },
    {
     "data": {
      "text/latex": [
       "$$\n",
       "\\mathbf{v_0}=\n",
       "\\begin{bmatrix}\n",
       "0.38026 - 0.02143i & 0.43048 + 0.08852i & 0.49143 & 0.37241 - 0.30427i & 0.25111 - 0.35493i  \\\\\n",
       " \\end{bmatrix}\n",
       "$$"
      ],
      "text/plain": [
       "<IPython.core.display.Latex object>"
      ]
     },
     "metadata": {},
     "output_type": "display_data"
    },
    {
     "data": {
      "text/latex": [
       "$$\n",
       "\\mathbf{v_1}=\n",
       "\\begin{bmatrix}\n",
       "-0.50508 - 0.02451i & -0.14552 + 0.49128i & 0.58463 & -0.26762 - 0.02879i & -0.19144 - 0.17571i  \\\\\n",
       " \\end{bmatrix}\n",
       "$$"
      ],
      "text/plain": [
       "<IPython.core.display.Latex object>"
      ]
     },
     "metadata": {},
     "output_type": "display_data"
    },
    {
     "data": {
      "text/latex": [
       "$$\n",
       "\\mathbf{v_2}=\n",
       "\\begin{bmatrix}\n",
       "0.10731 - 0.44175i & 0.16595 + 0.41444i & -0.22908 - 0.23732i & -0.40252 + 0.11708i & 0.55634  \\\\\n",
       " \\end{bmatrix}\n",
       "$$"
      ],
      "text/plain": [
       "<IPython.core.display.Latex object>"
      ]
     },
     "metadata": {},
     "output_type": "display_data"
    },
    {
     "data": {
      "text/latex": [
       "$$\n",
       "\\mathbf{v_3}=\n",
       "\\begin{bmatrix}\n",
       "0.53554 & -0.37045 + 0.13338i & 0.03858 - 0.13554i & -0.04139 + 0.50509i & -0.27033 - 0.45652i  \\\\\n",
       " \\end{bmatrix}\n",
       "$$"
      ],
      "text/plain": [
       "<IPython.core.display.Latex object>"
      ]
     },
     "metadata": {},
     "output_type": "display_data"
    },
    {
     "data": {
      "text/latex": [
       "$$\n",
       "\\mathbf{v_4}=\n",
       "\\begin{bmatrix}\n",
       "0.01397 - 0.32493i & 0.07876 - 0.42872i & 0.53671 & -0.03898 + 0.51206i & 0.12021 + 0.37147i  \\\\\n",
       " \\end{bmatrix}\n",
       "$$"
      ],
      "text/plain": [
       "<IPython.core.display.Latex object>"
      ]
     },
     "metadata": {},
     "output_type": "display_data"
    },
    {
     "data": {
      "text/latex": [
       "$\\displaystyle \\mathbf{\\langle\\phi\\lvert\\hat{O}\\lvert v_0\\rangle=\\langle\\phi\\lvert\\lambda_0\\lvert v_0\\rangle}\\;?\\;\\rightarrow\\;True$"
      ],
      "text/plain": [
       "<IPython.core.display.Math object>"
      ]
     },
     "metadata": {},
     "output_type": "display_data"
    },
    {
     "data": {
      "text/latex": [
       "$\\displaystyle \\mathbf{\\langle\\phi\\lvert\\hat{O}\\lvert v_1\\rangle=\\langle\\phi\\lvert\\lambda_1\\lvert v_1\\rangle}\\;?\\;\\rightarrow\\;True$"
      ],
      "text/plain": [
       "<IPython.core.display.Math object>"
      ]
     },
     "metadata": {},
     "output_type": "display_data"
    },
    {
     "data": {
      "text/latex": [
       "$\\displaystyle \\mathbf{\\langle\\phi\\lvert\\hat{O}\\lvert v_2\\rangle=\\langle\\phi\\lvert\\lambda_2\\lvert v_2\\rangle}\\;?\\;\\rightarrow\\;True$"
      ],
      "text/plain": [
       "<IPython.core.display.Math object>"
      ]
     },
     "metadata": {},
     "output_type": "display_data"
    },
    {
     "data": {
      "text/latex": [
       "$\\displaystyle \\mathbf{\\langle\\phi\\lvert\\hat{O}\\lvert v_3\\rangle=\\langle\\phi\\lvert\\lambda_3\\lvert v_3\\rangle}\\;?\\;\\rightarrow\\;True$"
      ],
      "text/plain": [
       "<IPython.core.display.Math object>"
      ]
     },
     "metadata": {},
     "output_type": "display_data"
    },
    {
     "data": {
      "text/latex": [
       "$\\displaystyle \\mathbf{\\langle\\phi\\lvert\\hat{O}\\lvert v_4\\rangle=\\langle\\phi\\lvert\\lambda_4\\lvert v_4\\rangle}\\;?\\;\\rightarrow\\;True$"
      ],
      "text/plain": [
       "<IPython.core.display.Math object>"
      ]
     },
     "metadata": {},
     "output_type": "display_data"
    }
   ],
   "source": [
    "# Cell 3 - A Hermitian operator applied to its eigenkets produce its eigenvalues\n",
    "\n",
    "#get a tuple of eigen values and the eigen vectors\n",
    "eigen_vals, eigen_vecs = np.linalg.eig(op)\n",
    "\n",
    "# Note: The eigenvalues of a Hermitian operator are all real\n",
    "#display eigen values \n",
    "display(\n",
    "    array_to_latex(\n",
    "        eigen_vals[:, np.newaxis].T,\n",
    "        prefix=r\"\\mathbf{\\lambda}=\",\n",
    "    )\n",
    ")\n",
    "\n",
    "# Note: In numpy, eigenvectors are returned as columns\n",
    "for i in range(n):\n",
    "    display(array_to_latex(eigen_vecs[:, i], prefix=rf\"\\mathbf{{v_{i}}}=\"))\n",
    "\n",
    "bra_phi = phi.conj().T #form bra of phi\n",
    "\n",
    "for i in range(n):\n",
    "    t1 = np.dot(bra_phi, np.dot(op, eigen_vecs[:, i]))# the np.dot operator if first oper is a matrix 2nd is a vector follows laws of matrix 2vectors does vector mult\n",
    "    t2 = np.dot(bra_phi, eigen_vals[i] * eigen_vecs[:, i])\n",
    "    display(\n",
    "        Math(\n",
    "            rf\"\\mathbf{{\\langle\\phi\\lvert\\hat{{O}}\\lvert v_{i}\\rangle=\"\n",
    "            rf\"\\langle\\phi\\lvert\\lambda_{i}\\lvert v_{i}\\rangle}}\\;?\\;\\rightarrow\\;{np.isclose(t1,t2)}\"\n",
    "        )\n",
    "    )"
   ]
  },
  {
   "cell_type": "code",
   "execution_count": 6,
   "id": "8edf55a9-4b55-4293-986c-eb7a5287b940",
   "metadata": {},
   "outputs": [
    {
     "data": {
      "text/latex": [
       "$\\displaystyle \\mathbf{v_0\\cdot v_1}\\;=\\;-0j$"
      ],
      "text/plain": [
       "<IPython.core.display.Math object>"
      ]
     },
     "metadata": {},
     "output_type": "display_data"
    },
    {
     "data": {
      "text/latex": [
       "$\\displaystyle \\mathbf{v_0\\cdot v_2}\\;=\\;(-0-0j)$"
      ],
      "text/plain": [
       "<IPython.core.display.Math object>"
      ]
     },
     "metadata": {},
     "output_type": "display_data"
    },
    {
     "data": {
      "text/latex": [
       "$\\displaystyle \\mathbf{v_0\\cdot v_3}\\;=\\;0j$"
      ],
      "text/plain": [
       "<IPython.core.display.Math object>"
      ]
     },
     "metadata": {},
     "output_type": "display_data"
    },
    {
     "data": {
      "text/latex": [
       "$\\displaystyle \\mathbf{v_0\\cdot v_4}\\;=\\;(-0-0j)$"
      ],
      "text/plain": [
       "<IPython.core.display.Math object>"
      ]
     },
     "metadata": {},
     "output_type": "display_data"
    },
    {
     "data": {
      "text/latex": [
       "$\\displaystyle \\mathbf{v_1\\cdot v_2}\\;=\\;-0j$"
      ],
      "text/plain": [
       "<IPython.core.display.Math object>"
      ]
     },
     "metadata": {},
     "output_type": "display_data"
    },
    {
     "data": {
      "text/latex": [
       "$\\displaystyle \\mathbf{v_1\\cdot v_3}\\;=\\;-0j$"
      ],
      "text/plain": [
       "<IPython.core.display.Math object>"
      ]
     },
     "metadata": {},
     "output_type": "display_data"
    },
    {
     "data": {
      "text/latex": [
       "$\\displaystyle \\mathbf{v_1\\cdot v_4}\\;=\\;-0j$"
      ],
      "text/plain": [
       "<IPython.core.display.Math object>"
      ]
     },
     "metadata": {},
     "output_type": "display_data"
    },
    {
     "data": {
      "text/latex": [
       "$\\displaystyle \\mathbf{v_2\\cdot v_3}\\;=\\;(-0-0j)$"
      ],
      "text/plain": [
       "<IPython.core.display.Math object>"
      ]
     },
     "metadata": {},
     "output_type": "display_data"
    },
    {
     "data": {
      "text/latex": [
       "$\\displaystyle \\mathbf{v_2\\cdot v_4}\\;=\\;-0j$"
      ],
      "text/plain": [
       "<IPython.core.display.Math object>"
      ]
     },
     "metadata": {},
     "output_type": "display_data"
    },
    {
     "data": {
      "text/latex": [
       "$\\displaystyle \\mathbf{v_3\\cdot v_4}\\;=\\;0j$"
      ],
      "text/plain": [
       "<IPython.core.display.Math object>"
      ]
     },
     "metadata": {},
     "output_type": "display_data"
    }
   ],
   "source": [
    "# Cell 4 - All non-degenerate eigenvectors\n",
    "# of a Hermitian operator are orthogonal to each other\n",
    "\n",
    "for i in range(n):\n",
    "    for j in range(i + 1, n):\n",
    "        display(\n",
    "            Math(\n",
    "                rf\"\\mathbf{{v_{i}\\cdot v_{j}}}\\;=\\;\"\n",
    "                rf\"{np.dot(eigen_vecs[:,i].conj(),eigen_vecs[:,j]).round(4)}\"\n",
    "            )\n",
    "        )\n",
    "#IF INNER PRODUCT IS ZERO THEN THEY ARE INDEPENDENT STATES SO IT CANNOT TRANSITION BETWEEN THOSE STATES"
   ]
  },
  {
   "cell_type": "code",
   "execution_count": 8,
   "id": "4d97b44e-45d1-4470-8d36-151a64c56392",
   "metadata": {},
   "outputs": [
    {
     "data": {
      "text/latex": [
       "$$\n",
       "\\mathbf{\\hat{O}}=\n",
       "\\begin{bmatrix}\n",
       "4 & -2  \\\\\n",
       " -2 & 4  \\\\\n",
       " \\end{bmatrix}\n",
       "$$"
      ],
      "text/plain": [
       "<IPython.core.display.Latex object>"
      ]
     },
     "metadata": {},
     "output_type": "display_data"
    },
    {
     "data": {
      "text/latex": [
       "$$\n",
       "\\mathbf{\\epsilon}=\n",
       "\\begin{bmatrix}\n",
       "\\tfrac{1}{\\sqrt{2}} & \\tfrac{1}{\\sqrt{2}}  \\\\\n",
       " -\\tfrac{1}{\\sqrt{2}} & \\tfrac{1}{\\sqrt{2}}  \\\\\n",
       " \\end{bmatrix}\n",
       "$$"
      ],
      "text/plain": [
       "<IPython.core.display.Latex object>"
      ]
     },
     "metadata": {},
     "output_type": "display_data"
    },
    {
     "data": {
      "text/latex": [
       "$$\n",
       "\\mathbf{O}=\n",
       "\\begin{bmatrix}\n",
       "2 & 0  \\\\\n",
       " 0 & 6  \\\\\n",
       " \\end{bmatrix}\n",
       "$$"
      ],
      "text/plain": [
       "<IPython.core.display.Latex object>"
      ]
     },
     "metadata": {},
     "output_type": "display_data"
    },
    {
     "data": {
      "text/latex": [
       "$$\n",
       "\\mathbf{\\lambda}=\n",
       "\\begin{bmatrix}\n",
       "6 & 2  \\\\\n",
       " \\end{bmatrix}\n",
       "$$"
      ],
      "text/plain": [
       "<IPython.core.display.Latex object>"
      ]
     },
     "metadata": {},
     "output_type": "display_data"
    }
   ],
   "source": [
    "# Cell 5 - Get Matrix From Operator in a given basis\n",
    "\n",
    "\n",
    "def get_matrix_from_operator(op, basis):\n",
    "    m = np.zeros_like(op)\n",
    "    for i, _ in np.ndenumerate(op):#allows you to go throughout the entire array\n",
    "        row, col = i\n",
    "        t1 = np.dot(basis[row].conj().T, op @ basis[col])#explicit way to do matrix multiplication\n",
    "        m[row, col] = t1\n",
    "    return m\n",
    "\n",
    "\n",
    "# Create a Hermitian operator matrix\n",
    "op = np.array([[4, -2], [-2, 4]], dtype=complex)\n",
    "\n",
    "# Get the eigenvalues and eigenvectors for the operator\n",
    "eigen_vals, eigen_vecs = np.linalg.eig(op)\n",
    "\n",
    "# Get the operator's components using its eigenvectors as its basis\n",
    "m = get_matrix_from_operator(op, eigen_vecs)\n",
    "\n",
    "display(array_to_latex(op, prefix=r\"\\mathbf{\\hat{O}}=\"))\n",
    "display(array_to_latex(eigen_vecs, prefix=r\"\\mathbf{\\epsilon}=\"))\n",
    "display(array_to_latex(m, prefix=r\"\\mathbf{O}=\"))\n",
    "display(\n",
    "    array_to_latex(\n",
    "        eigen_vals[:, np.newaxis].T,\n",
    "        prefix=r\"\\mathbf{\\lambda}=\",\n",
    "    )\n",
    ")\n",
    "#when a hermitian operator is expressed using its eigenfunctions for the basis, the matrix describing the operator is diagonal\n"
   ]
  },
  {
   "cell_type": "code",
   "execution_count": 9,
   "id": "6d941f08-fea4-4ea0-9cf1-634ae602d6b6",
   "metadata": {},
   "outputs": [
    {
     "data": {
      "text/latex": [
       "$$\n",
       "\\mathbf{\\Omega_1}=\n",
       "\\begin{bmatrix}\n",
       "0.13751 & 0.70793 + 0.16162i & 0.00671 + 0.45234i  \\\\\n",
       " 0.70793 - 0.16162i & 0.14421 & 0.24291 + 0.26158i  \\\\\n",
       " 0.00671 - 0.45234i & 0.24291 - 0.26158i & 0.61332  \\\\\n",
       " \\end{bmatrix}\n",
       "$$"
      ],
      "text/plain": [
       "<IPython.core.display.Latex object>"
      ]
     },
     "metadata": {},
     "output_type": "display_data"
    },
    {
     "data": {
      "text/latex": [
       "$$\n",
       "\\mathbf{\\Omega_2}=\n",
       "\\begin{bmatrix}\n",
       "0.17102 & 0.05417 + 0.26603i & 0.95277 + 0.27008i  \\\\\n",
       " 0.05417 - 0.26603i & 0.22675 & 0.07691 + 0.46555i  \\\\\n",
       " 0.95277 - 0.27008i & 0.07691 - 0.46555i & 0.54271  \\\\\n",
       " \\end{bmatrix}\n",
       "$$"
      ],
      "text/plain": [
       "<IPython.core.display.Latex object>"
      ]
     },
     "metadata": {},
     "output_type": "display_data"
    },
    {
     "data": {
      "text/latex": [
       "$$\n",
       "\\mathbf{[\\Omega_1,\\Omega_2]}=\n",
       "\\begin{bmatrix}\n",
       "0.49919i & -0.0519 + 0.22251i & -0.41522 + 0.30284i  \\\\\n",
       " 0.0519 + 0.22251i & 0.17321i & 0.63813 - 0.12125i  \\\\\n",
       " 0.41522 + 0.30284i & -0.63813 - 0.12125i & -0.67239i  \\\\\n",
       " \\end{bmatrix}\n",
       "$$"
      ],
      "text/plain": [
       "<IPython.core.display.Latex object>"
      ]
     },
     "metadata": {},
     "output_type": "display_data"
    },
    {
     "data": {
      "text/latex": [
       "$\\displaystyle \\mathbf{\\Omega_1}\\;\\text{and}\\;\\mathbf{\\Omega_2}\\;\\text{commute}\\;?\\;\\rightarrow\\;False$"
      ],
      "text/plain": [
       "<IPython.core.display.Math object>"
      ]
     },
     "metadata": {},
     "output_type": "display_data"
    }
   ],
   "source": [
    "# Cell 6 - Calculate the Commutator\n",
    "\n",
    "n = 3\n",
    "omega_1 = create_hermitian_matrix(n)\n",
    "omega_2 = create_hermitian_matrix(n)\n",
    "\n",
    "commutator = np.dot(omega_1, omega_2) - np.dot(omega_2, omega_1)# if distance is zero than they commute order does not matter\n",
    "\n",
    "display(array_to_latex(omega_1, prefix=r\"\\mathbf{\\Omega_1}=\"))\n",
    "display(array_to_latex(omega_2, prefix=r\"\\mathbf{\\Omega_2}=\"))\n",
    "\n",
    "display(array_to_latex(commutator, prefix=r\"\\mathbf{[\\Omega_1,\\Omega_2]}=\"))\n",
    "display(\n",
    "    Math(\n",
    "        rf\"\\mathbf{{\\Omega_1}}\\;\\text{{and}}\\;\\mathbf{{\\Omega_2}}\\;\"\n",
    "        rf\"\\text{{commute}}\\;?\\;\\rightarrow\\;{np.isclose(commutator,0).all()}\"\n",
    "    )\n",
    ")"
   ]
  },
  {
   "cell_type": "code",
   "execution_count": 10,
   "id": "4fcce813-9d1a-4d37-a997-504fb9dcc5f6",
   "metadata": {},
   "outputs": [
    {
     "data": {
      "text/latex": [
       "$$\n",
       "\\mathbf{\\Omega_1}=\n",
       "\\begin{bmatrix}\n",
       "0.39736 + 0.37636i & 0 & 0  \\\\\n",
       " 0 & 0.84039 + 0.459i & 0  \\\\\n",
       " 0 & 0 & 0.01634 + 0.2976i  \\\\\n",
       " \\end{bmatrix}\n",
       "$$"
      ],
      "text/plain": [
       "<IPython.core.display.Latex object>"
      ]
     },
     "metadata": {},
     "output_type": "display_data"
    },
    {
     "data": {
      "text/latex": [
       "$$\n",
       "\\mathbf{\\Omega_2}=\n",
       "\\begin{bmatrix}\n",
       "0.78072 + 0.76197i & 0 & 0  \\\\\n",
       " 0 & 0.10919 + 0.96723i & 0  \\\\\n",
       " 0 & 0 & 0.38621 + 0.43224i  \\\\\n",
       " \\end{bmatrix}\n",
       "$$"
      ],
      "text/plain": [
       "<IPython.core.display.Latex object>"
      ]
     },
     "metadata": {},
     "output_type": "display_data"
    },
    {
     "data": {
      "text/latex": [
       "$$\n",
       "\\mathbf{[\\Omega_1,\\Omega_2]}=\n",
       "\\begin{bmatrix}\n",
       "0 & 0 & 0  \\\\\n",
       " 0 & 0 & 0  \\\\\n",
       " 0 & 0 & 0  \\\\\n",
       " \\end{bmatrix}\n",
       "$$"
      ],
      "text/plain": [
       "<IPython.core.display.Latex object>"
      ]
     },
     "metadata": {},
     "output_type": "display_data"
    },
    {
     "data": {
      "text/latex": [
       "$\\displaystyle \\mathbf{\\Omega_1}\\;\\text{and}\\;\\mathbf{\\Omega_2}\\;\\text{commute}\\;?\\;\\rightarrow\\;True$"
      ],
      "text/plain": [
       "<IPython.core.display.Math object>"
      ]
     },
     "metadata": {},
     "output_type": "display_data"
    }
   ],
   "source": [
    "# Cell 7 - All diagonal matrices commute with each other\n",
    "\n",
    "#all zeros except for main diagonal\n",
    "def create_diagonal_matrix(n):\n",
    "    a = np.zeros((n, n), dtype=complex)\n",
    "    for i in range(n):\n",
    "        r1 = np.random.random()\n",
    "        r2 = np.random.random()\n",
    "        a[i, i] = complex(r1, r2)\n",
    "    return a\n",
    "\n",
    "\n",
    "omega_1 = create_diagonal_matrix(n)\n",
    "omega_2 = create_diagonal_matrix(n)\n",
    "\n",
    "commutator = np.dot(omega_1, omega_2) - np.dot(omega_2, omega_1)\n",
    "\n",
    "display(array_to_latex(omega_1, prefix=r\"\\mathbf{\\Omega_1}=\"))\n",
    "display(array_to_latex(omega_2, prefix=r\"\\mathbf{\\Omega_2}=\"))\n",
    "\n",
    "display(array_to_latex(commutator, prefix=r\"\\mathbf{[\\Omega_1,\\Omega_2]}=\"))\n",
    "display(\n",
    "    Math(\n",
    "        rf\"\\mathbf{{\\Omega_1}}\\;\\text{{and}}\\;\\mathbf{{\\Omega_2}}\\;\"\n",
    "        rf\"\\text{{commute}}\\;?\\;\\rightarrow\\;{np.isclose(commutator,0).all()}\"\n",
    "    )\n",
    ")\n",
    "#all diagonal matrices commute with all other diagonal matrices"
   ]
  },
  {
   "cell_type": "code",
   "execution_count": null,
   "id": "6820fae0-c059-4ec7-9be7-871163edca4b",
   "metadata": {},
   "outputs": [],
   "source": []
  }
 ],
 "metadata": {
  "kernelspec": {
   "display_name": "Python 3 (ipykernel)",
   "language": "python",
   "name": "python3"
  },
  "language_info": {
   "codemirror_mode": {
    "name": "ipython",
    "version": 3
   },
   "file_extension": ".py",
   "mimetype": "text/x-python",
   "name": "python",
   "nbconvert_exporter": "python",
   "pygments_lexer": "ipython3",
   "version": "3.9.13"
  }
 },
 "nbformat": 4,
 "nbformat_minor": 5
}
