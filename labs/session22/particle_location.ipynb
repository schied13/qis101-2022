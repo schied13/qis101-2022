{
 "cells": [
  {
   "cell_type": "code",
   "execution_count": null,
   "id": "0ffd3674-7512-4dd3-96b4-53008821661a",
   "metadata": {},
   "outputs": [],
   "source": [
    "#particle_location\n",
    "#Cell 1- \n",
    "\n",
    "%matplotlib widget\n",
    "\n",
    "import matplotlib.pyplot as plt\n",
    "import numpy as np\n",
    "from numba import float64, vectorize\n",
    "import scipy.integrate\n",
    "\n",
    "@vectorize([float64(float64)], nopython=True)\n",
    "def f(x):\n",
    "    c = np.sqrt(2)\n",
    "    return (c**2)*np.exp(-2*x)\n",
    "\n",
    "@vectorize([float64(float64, float64)], nopython=True)\n",
    "def halton(n, p):\n",
    "    h, f = 0, 1\n",
    "    while n > 0:\n",
    "        f = f / p\n",
    "        h += (n % p) * f\n",
    "        n = int(n / p)\n",
    "    return h\n",
    "\n",
    "\n",
    "def plot_std_normal(ax):\n",
    "    iterations_sqrt = 2500\n",
    "    iterations = iterations_sqrt**2\n",
    "\n",
    "    primes = [2, 3]\n",
    "\n",
    "    x = halton(np.arange(iterations), primes[0]) *1\n",
    "    y = halton(np.arange(iterations), primes[1]) *2.0000004\n",
    "   \n",
    "    d = f(x) - y\n",
    "    \n",
    "    x_in = x[d >= 0.0]\n",
    "    y_in = y[d >= 0.0]\n",
    "\n",
    "    x_out = x[d < 0.0]\n",
    "    y_out = y[d < 0.0]\n",
    "\n",
    "    pixel_size = (72 / ax.figure.dpi) ** 2\n",
    "    ax.scatter(x_in, y_in, color=\"red\", marker=\".\", s=pixel_size)\n",
    "    ax.scatter(x_out, y_out, color=\"blue\", marker=\".\", s=pixel_size)\n",
    "\n",
    "    act_x = np.linspace(0,4, 150)\n",
    "    act_y = f(act_x)\n",
    "    ax.plot(act_x, act_y, color=\"green\")\n",
    "    \n",
    "    est_area = 1-(np.count_nonzero(d >= 0.0) / iterations)*2\n",
    "\n",
    "    act_area = 1/np.exp(2)\n",
    "\n",
    "    err = (est_area - act_area) / act_area\n",
    "\n",
    "    ax.set_title(\"Monte Carlo Approximation( Approximated area = 1- shown area\")\n",
    "    ax.set_xlim(-.1, 4.0)\n",
    "    ax.set_ylim(-0.1,2.5)\n",
    "    ax.axhline(0, color=\"gray\")\n",
    "    ax.axvline(0, color=\"gray\")\n",
    "\n",
    "    ax.text(1.5, 0.3, \"Total dots\\nAct. Area\\n\" \"Est. Area\\n% Rel Err\", ha=\"left\")\n",
    "\n",
    "    ax.text(\n",
    "        2.2,\n",
    "        0.3,\n",
    "        f\"= {iterations:,}\\n= {act_area:.6f}\\n\" f\"= {est_area:.6f}\\n= {err:.6%}\",\n",
    "        ha=\"left\",\n",
    "    )\n",
    "\n",
    "\n",
    "def main():\n",
    "    plt.close(\"all\")\n",
    "    fig = plt.figure(label=\" \")\n",
    "    fig.set_size_inches(11, 6)\n",
    "    gs = fig.add_gridspec(1, 1)\n",
    "\n",
    "    ax = fig.add_subplot(gs[0, 0])\n",
    "    plot_std_normal(ax)\n",
    "\n",
    "    plt.show()\n",
    "\n",
    "\n",
    "main()"
   ]
  },
  {
   "cell_type": "code",
   "execution_count": 95,
   "id": "e3e6d39f-856e-486a-9e26-9dc505a54a6d",
   "metadata": {},
   "outputs": [
    {
     "name": "stdout",
     "output_type": "stream",
     "text": [
      "0.135335\n"
     ]
    }
   ],
   "source": [
    "a = scipy.integrate.quad(f,1,np.inf)[0]\n",
    "print(f\"{a:.6}\")"
   ]
  },
  {
   "cell_type": "code",
   "execution_count": null,
   "id": "beaf9cd5-0b92-4ce7-a535-c9729314f021",
   "metadata": {},
   "outputs": [],
   "source": []
  }
 ],
 "metadata": {
  "kernelspec": {
   "display_name": "Python 3 (ipykernel)",
   "language": "python",
   "name": "python3"
  },
  "language_info": {
   "codemirror_mode": {
    "name": "ipython",
    "version": 3
   },
   "file_extension": ".py",
   "mimetype": "text/x-python",
   "name": "python",
   "nbconvert_exporter": "python",
   "pygments_lexer": "ipython3",
   "version": "3.9.13"
  }
 },
 "nbformat": 4,
 "nbformat_minor": 5
}
