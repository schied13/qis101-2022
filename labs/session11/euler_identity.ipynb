{
 "cells": [
  {
   "cell_type": "code",
   "execution_count": 1,
   "id": "f22660c7",
   "metadata": {},
   "outputs": [
    {
     "data": {
      "text/latex": [
       "$\\displaystyle \\Large e^{0.000000+3.141593j} = -1.000000-0.000000j$"
      ],
      "text/plain": [
       "<IPython.core.display.Math object>"
      ]
     },
     "metadata": {},
     "output_type": "display_data"
    }
   ],
   "source": [
    "# euler_identity.ipynb\n",
    "# Cell 1\n",
    "\n",
    "import numpy as np\n",
    "from IPython.display import Math\n",
    "\n",
    "z = complex(0, np.pi)\n",
    "ez = 0\n",
    "\n",
    "for p in range(0, 20):\n",
    "    ez += np.power(z, p) / np.math.factorial(p)\n",
    "\n",
    "display(Math(rf\"\\Large e^{{{z:.6f}}} = {ez:.6f}\"))"
   ]
  },
  {
   "cell_type": "code",
   "execution_count": null,
   "id": "0b8e26f5-e32e-4e7a-abad-966c343782b4",
   "metadata": {},
   "outputs": [],
   "source": []
  }
 ],
 "metadata": {
  "kernelspec": {
   "display_name": "Python 3 (ipykernel)",
   "language": "python",
   "name": "python3"
  },
  "language_info": {
   "codemirror_mode": {
    "name": "ipython",
    "version": 3
   },
   "file_extension": ".py",
   "mimetype": "text/x-python",
   "name": "python",
   "nbconvert_exporter": "python",
   "pygments_lexer": "ipython3",
   "version": "3.9.13"
  }
 },
 "nbformat": 4,
 "nbformat_minor": 5
}
