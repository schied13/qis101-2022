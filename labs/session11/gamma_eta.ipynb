{
 "cells": [
  {
   "cell_type": "code",
   "execution_count": 1,
   "id": "e3e11c5b-b005-4278-bd90-df370b9110eb",
   "metadata": {},
   "outputs": [
    {
     "data": {
      "text/latex": [
       "$\\displaystyle 5!=120$"
      ],
      "text/plain": [
       "<IPython.core.display.Math object>"
      ]
     },
     "metadata": {},
     "output_type": "display_data"
    },
    {
     "data": {
      "text/latex": [
       "$\\displaystyle 5!=120$"
      ],
      "text/plain": [
       "<IPython.core.display.Math object>"
      ]
     },
     "metadata": {},
     "output_type": "display_data"
    }
   ],
   "source": [
    "# gamma_eta.ipynb\n",
    "# Cell 1\n",
    "\n",
    "import mpmath\n",
    "import numpy as np\n",
    "import scipy.integrate\n",
    "from IPython.display import Math\n",
    "\n",
    "\n",
    "def f(x, s):\n",
    "    # Since np.finfo(np.longdouble).max = 1.7976931348623157e+308\n",
    "    # we can treat the denominator as infinity, which makes the fraction zero\n",
    "    # if the requested natural log exponent x > 309 * Log(10)\n",
    "    # otherwise we will get an overflow error for calling np.exp(x) with large x\n",
    "    if x > 712:\n",
    "        return 0\n",
    "    return np.power(x, s - 1) / (np.exp(x) + 1)\n",
    "\n",
    "\n",
    "# We want to calculate 5!\n",
    "n = 5\n",
    "\n",
    "# Gamma[n+1] == n! (See https://en.wikipedia.org/wiki/Gamma_function)\n",
    "s = n + 1\n",
    "\n",
    "# Calculate the Dirichlet's Eta value for s\n",
    "eta = float(mpmath.altzeta(s))\n",
    "\n",
    "# Use scipy to integrate f(x, s) from 0 to 1000\n",
    "integral = scipy.integrate.quad(f, 0, 1000, args=(s,))[0]\n",
    "\n",
    "# Calculate gamma, given both the eta and integral values\n",
    "gamma = int(integral / eta)\n",
    "\n",
    "display(Math(rf\"{n}!={gamma}\"))\n",
    "display(Math(rf\"{n}!={np.math.factorial(n)}\"))"
   ]
  },
  {
   "cell_type": "code",
   "execution_count": null,
   "id": "351efc2a-e1dc-433f-aae7-4c276f806603",
   "metadata": {},
   "outputs": [],
   "source": []
  }
 ],
 "metadata": {
  "kernelspec": {
   "display_name": "Python 3 (ipykernel)",
   "language": "python",
   "name": "python3"
  },
  "language_info": {
   "codemirror_mode": {
    "name": "ipython",
    "version": 3
   },
   "file_extension": ".py",
   "mimetype": "text/x-python",
   "name": "python",
   "nbconvert_exporter": "python",
   "pygments_lexer": "ipython3",
   "version": "3.9.13"
  }
 },
 "nbformat": 4,
 "nbformat_minor": 5
}
