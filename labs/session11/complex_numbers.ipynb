{
 "cells": [
  {
   "cell_type": "code",
   "execution_count": 1,
   "id": "711caeff-3aef-4455-9d5c-2ee557477e6d",
   "metadata": {},
   "outputs": [
    {
     "data": {
      "text/latex": [
       "$\\displaystyle z_1=(-5.9-7.5j)$"
      ],
      "text/plain": [
       "<IPython.core.display.Math object>"
      ]
     },
     "metadata": {},
     "output_type": "display_data"
    },
    {
     "data": {
      "text/latex": [
       "$\\displaystyle z_2=(1.4142135623730951+3.141592653589793j)$"
      ],
      "text/plain": [
       "<IPython.core.display.Math object>"
      ]
     },
     "metadata": {},
     "output_type": "display_data"
    },
    {
     "data": {
      "text/latex": [
       "$\\displaystyle z_3=(7-2j)$"
      ],
      "text/plain": [
       "<IPython.core.display.Math object>"
      ]
     },
     "metadata": {},
     "output_type": "display_data"
    }
   ],
   "source": [
    "# complex_numbers.ipynb\n",
    "# Cell 1 - Display three complex numbers\n",
    "\n",
    "import numpy as np\n",
    "from IPython.display import Math\n",
    "\n",
    "z1 = complex(-5.9, -7.5)\n",
    "z2 = complex(np.sqrt(2), np.pi)\n",
    "z3 = 7 - 2j\n",
    "\n",
    "display(Math(rf\"z_1={z1}\"))\n",
    "display(Math(rf\"z_2={z2}\"))\n",
    "display(Math(rf\"z_3={z3}\"))"
   ]
  },
  {
   "cell_type": "code",
   "execution_count": 2,
   "id": "1dfbe51c-4c4d-434a-a71e-07fa77519f70",
   "metadata": {},
   "outputs": [
    {
     "data": {
      "text/latex": [
       "$\\displaystyle z_1+z_2=-4.4858-4.3584j$"
      ],
      "text/plain": [
       "<IPython.core.display.Math object>"
      ]
     },
     "metadata": {},
     "output_type": "display_data"
    },
    {
     "data": {
      "text/latex": [
       "$\\displaystyle z_1-z_2=-7.3142-10.6416j$"
      ],
      "text/plain": [
       "<IPython.core.display.Math object>"
      ]
     },
     "metadata": {},
     "output_type": "display_data"
    },
    {
     "data": {
      "text/latex": [
       "$\\displaystyle z_1*z_2=15.2181-29.1420j$"
      ],
      "text/plain": [
       "<IPython.core.display.Math object>"
      ]
     },
     "metadata": {},
     "output_type": "display_data"
    },
    {
     "data": {
      "text/latex": [
       "$\\displaystyle \\frac{z_1}{z_2}=15.2181-29.1420j$"
      ],
      "text/plain": [
       "<IPython.core.display.Math object>"
      ]
     },
     "metadata": {},
     "output_type": "display_data"
    }
   ],
   "source": [
    "# Cell 2 - Display complex number arithmetic\n",
    "\n",
    "display(Math(rf\"z_1+z_2={z1+z2:.4f}\"))\n",
    "display(Math(rf\"z_1-z_2={z1-z2:.4f}\"))\n",
    "display(Math(rf\"z_1*z_2={z1*z2:.4f}\"))\n",
    "\n",
    "display(Math(rf\"\\frac{{z_1}}{{z_2}}={z1*z2:.4f}\"))"
   ]
  },
  {
   "cell_type": "code",
   "execution_count": 3,
   "id": "021bcea4-cd84-43b4-a1f2-a0230eaa57c2",
   "metadata": {},
   "outputs": [
    {
     "data": {
      "text/latex": [
       "$\\displaystyle z_1^3=790.2460-361.3500j$"
      ],
      "text/plain": [
       "<IPython.core.display.Math object>"
      ]
     },
     "metadata": {},
     "output_type": "display_data"
    }
   ],
   "source": [
    "# Cell 3 - Display z1 cubed\n",
    "\n",
    "display(Math(rf\"z_1^3={np.power(z1,3):.4f}\"))"
   ]
  },
  {
   "cell_type": "code",
   "execution_count": 4,
   "id": "60477f02-94cd-4b30-a372-de692f7f9dff",
   "metadata": {},
   "outputs": [
    {
     "data": {
      "text/latex": [
       "$\\displaystyle \\overline{z_2}=1.4142-3.1416j$"
      ],
      "text/plain": [
       "<IPython.core.display.Math object>"
      ]
     },
     "metadata": {},
     "output_type": "display_data"
    }
   ],
   "source": [
    "# Cell 4 - Display the conjugate of z2\n",
    "\n",
    "display(Math(rf\"\\overline{{z_2}}={np.conjugate(z2):.4f}\"))"
   ]
  },
  {
   "cell_type": "code",
   "execution_count": 5,
   "id": "975f49e4-283c-468a-9f85-403c43b43007",
   "metadata": {},
   "outputs": [
    {
     "data": {
      "text/latex": [
       "$\\displaystyle |z_3|=7.2801$"
      ],
      "text/plain": [
       "<IPython.core.display.Math object>"
      ]
     },
     "metadata": {},
     "output_type": "display_data"
    }
   ],
   "source": [
    "# Cell 5 - Display the modulus of z3\n",
    "\n",
    "display(Math(rf\"|z_3|={np.absolute(z3):.4f}\"))"
   ]
  },
  {
   "cell_type": "code",
   "execution_count": 6,
   "id": "bbd28422-da59-401e-be10-9fd30a97ef7d",
   "metadata": {},
   "outputs": [
    {
     "data": {
      "text/latex": [
       "$\\displaystyle Arg\\;z_1=\\theta=-2.2374$"
      ],
      "text/plain": [
       "<IPython.core.display.Math object>"
      ]
     },
     "metadata": {},
     "output_type": "display_data"
    }
   ],
   "source": [
    "# Cell 6 - Print phase of z1\n",
    "\n",
    "display(Math(rf\"Arg\\;z_1=\\theta={np.angle(z1):.4f}\"))"
   ]
  },
  {
   "cell_type": "code",
   "execution_count": null,
   "id": "4ff04337-1af2-43c4-837d-09a084498b45",
   "metadata": {},
   "outputs": [],
   "source": []
  }
 ],
 "metadata": {
  "kernelspec": {
   "display_name": "Python 3 (ipykernel)",
   "language": "python",
   "name": "python3"
  },
  "language_info": {
   "codemirror_mode": {
    "name": "ipython",
    "version": 3
   },
   "file_extension": ".py",
   "mimetype": "text/x-python",
   "name": "python",
   "nbconvert_exporter": "python",
   "pygments_lexer": "ipython3",
   "version": "3.9.13"
  }
 },
 "nbformat": 4,
 "nbformat_minor": 5
}
