{
 "cells": [
  {
   "cell_type": "code",
   "execution_count": 27,
   "id": "46cdb525-092c-4604-89d9-534f491a3b2e",
   "metadata": {},
   "outputs": [
    {
     "data": {
      "text/latex": [
       "$$\n",
       "\\mathbf{A}=\n",
       "\\begin{bmatrix}\n",
       "1 & 2 & 1 & -1  \\\\\n",
       " 3 & 2 & 4 & 4  \\\\\n",
       " 4 & 4 & 3 & 4  \\\\\n",
       " 2 & 0 & 1 & 5  \\\\\n",
       " \\end{bmatrix}\n",
       "$$"
      ],
      "text/plain": [
       "<IPython.core.display.Latex object>"
      ]
     },
     "metadata": {},
     "output_type": "display_data"
    },
    {
     "data": {
      "text/latex": [
       "$$\n",
       "\\mathbf{B}=\n",
       "\\begin{bmatrix}\n",
       "5  \\\\\n",
       " 16  \\\\\n",
       " 22  \\\\\n",
       " 15  \\\\\n",
       " \\end{bmatrix}\n",
       "$$"
      ],
      "text/plain": [
       "<IPython.core.display.Latex object>"
      ]
     },
     "metadata": {},
     "output_type": "display_data"
    },
    {
     "data": {
      "text/latex": [
       "$$\n",
       "\\mathbf{A^{-1}B}\n",
       "\\begin{bmatrix}\n",
       "16  \\\\\n",
       " -6  \\\\\n",
       " -2  \\\\\n",
       " -3  \\\\\n",
       " \\end{bmatrix}\n",
       "$$"
      ],
      "text/plain": [
       "<IPython.core.display.Latex object>"
      ]
     },
     "metadata": {},
     "output_type": "display_data"
    },
    {
     "data": {
      "text/latex": [
       "$\\displaystyle x_1= 16$"
      ],
      "text/plain": [
       "<IPython.core.display.Math object>"
      ]
     },
     "metadata": {},
     "output_type": "display_data"
    },
    {
     "data": {
      "text/latex": [
       "$\\displaystyle x_2= -6$"
      ],
      "text/plain": [
       "<IPython.core.display.Math object>"
      ]
     },
     "metadata": {},
     "output_type": "display_data"
    },
    {
     "data": {
      "text/latex": [
       "$\\displaystyle x_3= -2$"
      ],
      "text/plain": [
       "<IPython.core.display.Math object>"
      ]
     },
     "metadata": {},
     "output_type": "display_data"
    },
    {
     "data": {
      "text/latex": [
       "$\\displaystyle x_4= -3$"
      ],
      "text/plain": [
       "<IPython.core.display.Math object>"
      ]
     },
     "metadata": {},
     "output_type": "display_data"
    }
   ],
   "source": [
    "#solve4x4.ipynb\n",
    "\n",
    "import numpy as np\n",
    "from IPython.display import Math\n",
    "from qiskit.visualization import array_to_latex\n",
    "\n",
    "#stores the coeffcients of the equations into an array with each row \n",
    "a =np.array([[1,2,1,-1],[3,2,4,4],[4,4,3,4],[2,0,1,5]])\n",
    "#constants array\n",
    "b =np.array([[5],[16],[22],[15]])\n",
    "\n",
    "#multiplies the inverse of the coeffcient matrix by the constants array\n",
    "c= np.matmul(np.linalg.inv(a),b)\n",
    "\n",
    "x1 = float(c[0])\n",
    "x2 = float(c[1])\n",
    "x3 = float(c[2])\n",
    "x4 =float(c[3])\n",
    "\n",
    "display(array_to_latex(a, prefix=r\"\\mathbf{A}=\"))\n",
    "display(array_to_latex(b,prefix=r\"\\mathbf{B}=\"))\n",
    "display(array_to_latex(c,prefix=r\"\\mathbf{A^{-1}B}\"))\n",
    "\n",
    "display(Math(rf\"x_1= {x1:,.0f}\"))\n",
    "display(Math(rf\"x_2= {x2:,.0f}\"))\n",
    "display(Math(rf\"x_3= {x3:,.0f}\"))\n",
    "display(Math(rf\"x_4= {x4:,.0f}\"))"
   ]
  },
  {
   "cell_type": "code",
   "execution_count": null,
   "id": "7622a1d2-142e-4ed6-b3cb-82d5444a3f12",
   "metadata": {},
   "outputs": [],
   "source": []
  }
 ],
 "metadata": {
  "kernelspec": {
   "display_name": "Python 3 (ipykernel)",
   "language": "python",
   "name": "python3"
  },
  "language_info": {
   "codemirror_mode": {
    "name": "ipython",
    "version": 3
   },
   "file_extension": ".py",
   "mimetype": "text/x-python",
   "name": "python",
   "nbconvert_exporter": "python",
   "pygments_lexer": "ipython3",
   "version": "3.9.13"
  }
 },
 "nbformat": 4,
 "nbformat_minor": 5
}
