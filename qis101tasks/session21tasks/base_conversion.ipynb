{
 "cells": [
  {
   "cell_type": "code",
   "execution_count": 1,
   "id": "3d42bab9-2525-4c19-bf23-2c756a826c31",
   "metadata": {},
   "outputs": [
    {
     "name": "stdout",
     "output_type": "stream",
     "text": [
      "1011001 in binary = 89 in decimal\n"
     ]
    }
   ],
   "source": [
    "# base_conversion.ipynb\n",
    "\n",
    "# Cell 1 - Binary to Decimal\n",
    "\n",
    "import numpy as np\n",
    "\n",
    "\n",
    "def binary_to_decimal(b):\n",
    "    # Reverse string 'b' because the\n",
    "    # LSB must be in first position\n",
    "    b = b[::-1]\n",
    "    sum = 0\n",
    "    for position in range(len(b)):\n",
    "        weight = pow(2, position)\n",
    "        digit = int(b[position])\n",
    "        sum += digit * weight\n",
    "    return sum\n",
    "\n",
    "\n",
    "b = \"1011001\"\n",
    "d = binary_to_decimal(b)\n",
    "print(f\"{b} in binary = {d:,} in decimal\")"
   ]
  },
  {
   "cell_type": "code",
   "execution_count": 2,
   "id": "c42f7074-cc21-4168-8f7e-3ef246a7a764",
   "metadata": {},
   "outputs": [
    {
     "name": "stdout",
     "output_type": "stream",
     "text": [
      "113 in decimal = 1110001 in binary\n"
     ]
    }
   ],
   "source": [
    "# Cell 2 - Decimal to Binary\n",
    "\n",
    "\n",
    "def decimal_to_binary(d):\n",
    "    b = \"\"\n",
    "    while d > 0:\n",
    "        b += str(d % 2)\n",
    "        d = int(d / 2)\n",
    "    # Reverse string 'b' because the\n",
    "    # LSB must be in first position\n",
    "    b = b[::-1]\n",
    "    return b\n",
    "\n",
    "\n",
    "d = 113\n",
    "b = decimal_to_binary(d)\n",
    "print(f\"{d:,} in decimal = {b} in binary\")"
   ]
  },
  {
   "cell_type": "code",
   "execution_count": null,
   "id": "1a2de740-43d3-4f49-8707-2ea6145aefc1",
   "metadata": {},
   "outputs": [],
   "source": [
    "# Cell 3 - Calling built-in functions for base conversion\n",
    "\n",
    "# Better to call the built-in integer constructor\n",
    "b = \"1011001\"\n",
    "d = int(b, 2)\n",
    "print(f\"{b} in binary = {d:,} in decimal\")\n",
    "\n",
    "# Better to call numpy's built-in base coverter\n",
    "d = 113\n",
    "b = np.base_repr(d, base=2)\n",
    "print(f\"{d:,} in decimal = {b} in binary\")"
   ]
  }
 ],
 "metadata": {
  "kernelspec": {
   "display_name": "Python 3 (ipykernel)",
   "language": "python",
   "name": "python3"
  },
  "language_info": {
   "codemirror_mode": {
    "name": "ipython",
    "version": 3
   },
   "file_extension": ".py",
   "mimetype": "text/x-python",
   "name": "python",
   "nbconvert_exporter": "python",
   "pygments_lexer": "ipython3",
   "version": "3.9.13"
  }
 },
 "nbformat": 4,
 "nbformat_minor": 5
}
