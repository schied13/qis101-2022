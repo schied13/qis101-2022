{
 "cells": [
  {
   "cell_type": "code",
   "execution_count": 61,
   "id": "e1a87655-e9c9-4ddf-a302-1f600d0fa123",
   "metadata": {},
   "outputs": [
    {
     "data": {
      "text/latex": [
       "$$\n",
       "\\mathbf{A}=\n",
       "\\begin{bmatrix}\n",
       "3 & 4 + 5i & 6 - 7i & 5 + 2i  \\\\\n",
       " 4 - 5i & 9 & 7 + 2i & 2 - 8i  \\\\\n",
       " 6 + 7i & 7 - 2i & -18 & 3 - i  \\\\\n",
       " 5 - 2i & 2 + 8i & 3 + i & 34  \\\\\n",
       " \\end{bmatrix}\n",
       "$$"
      ],
      "text/plain": [
       "<IPython.core.display.Latex object>"
      ]
     },
     "metadata": {},
     "output_type": "display_data"
    },
    {
     "data": {
      "text/latex": [
       "$$\n",
       "\\mathbf{A^\\dagger}=\n",
       "\\begin{bmatrix}\n",
       "3 & 4 + 5i & 6 - 7i & 5 + 2i  \\\\\n",
       " 4 - 5i & 9 & 7 + 2i & 2 - 8i  \\\\\n",
       " 6 + 7i & 7 - 2i & -18 & 3 - i  \\\\\n",
       " 5 - 2i & 2 + 8i & 3 + i & 34  \\\\\n",
       " \\end{bmatrix}\n",
       "$$"
      ],
      "text/plain": [
       "<IPython.core.display.Latex object>"
      ]
     },
     "metadata": {},
     "output_type": "display_data"
    },
    {
     "data": {
      "text/latex": [
       "$\\displaystyle \\mathbf{A=A^\\dagger}\\;?\\;$$\\rightarrow$$\\;True$"
      ],
      "text/plain": [
       "<IPython.core.display.Math object>"
      ]
     },
     "metadata": {},
     "output_type": "display_data"
    },
    {
     "data": {
      "text/latex": [
       "$$\n",
       "\\mathbf{A^{-1}}=\n",
       "\\begin{bmatrix}\n",
       "0.24455 & -0.12884 - 0.00641i & 0.02962 - 0.11885i & -0.02599 - 0.03297i  \\\\\n",
       " -0.12884 + 0.00641i & 0.17056 & 0.02442 + 0.07823i & 0.00484 + 0.04058i  \\\\\n",
       " 0.02962 + 0.11885i & 0.02442 - 0.07823i & 0.02213 & 0.01765 - 0.00822i  \\\\\n",
       " -0.02599 + 0.03297i & 0.00484 - 0.04058i & 0.01765 + 0.00822i & 0.04264  \\\\\n",
       " \\end{bmatrix}\n",
       "$$"
      ],
      "text/plain": [
       "<IPython.core.display.Latex object>"
      ]
     },
     "metadata": {},
     "output_type": "display_data"
    },
    {
     "data": {
      "text/latex": [
       "$$\n",
       "\\mathbf{{A^{-1}}^\\dagger}=\n",
       "\\begin{bmatrix}\n",
       "0.24455 & -0.12884 - 0.00641i & 0.02962 - 0.11885i & -0.02599 - 0.03297i  \\\\\n",
       " -0.12884 + 0.00641i & 0.17056 & 0.02442 + 0.07823i & 0.00484 + 0.04058i  \\\\\n",
       " 0.02962 + 0.11885i & 0.02442 - 0.07823i & 0.02213 & 0.01765 - 0.00822i  \\\\\n",
       " -0.02599 + 0.03297i & 0.00484 - 0.04058i & 0.01765 + 0.00822i & 0.04264  \\\\\n",
       " \\end{bmatrix}\n",
       "$$"
      ],
      "text/plain": [
       "<IPython.core.display.Latex object>"
      ]
     },
     "metadata": {},
     "output_type": "display_data"
    },
    {
     "data": {
      "text/latex": [
       "$\\displaystyle \\mathbf{{A^{-1}}^\\dagger}\\mathbf{=A^\\dagger}\\;?\\;$$\\rightarrow$$\\;True$"
      ],
      "text/plain": [
       "<IPython.core.display.Math object>"
      ]
     },
     "metadata": {},
     "output_type": "display_data"
    }
   ],
   "source": [
    "#hermatian_matrices.ipynb\n",
    "\n",
    "import numpy as np\n",
    "from IPython.display import Math\n",
    "from qiskit.visualization import array_to_latex\n",
    "\n",
    "\n",
    "#original hermatian Matrix\n",
    "a = np.array([[3,4+5j,6-7j,5+2j],[4-5j,9,7+2j,2-8j],[6+7j,7-2j,-18,3-1j],[5-2j,2+8j,3+1j,34]])\n",
    "\n",
    "#conjugate transpose to prove it is a germatian matrix\n",
    "b = a.conj().T\n",
    "\n",
    "#inverse of the hermatian matrix\n",
    "c = np.linalg.inv(a)\n",
    "\n",
    "\n",
    "d = c.conj().T\n",
    "display(array_to_latex(a, prefix=r\"\\mathbf{A}=\"))\n",
    "display(array_to_latex(b,prefix=r\"\\mathbf{A^\\dagger}=\"))\n",
    "display(\n",
    "    Math(\n",
    "        rf\"\\mathbf{{A=A^\\dagger}}\"\n",
    "        rf\"\\;?\\;$$\\rightarrow$$\\;{np.isclose(a,b).all()}\"\n",
    "    )\n",
    ")\n",
    "\n",
    "display(array_to_latex(c, prefix=r\"\\mathbf{A^{-1}}=\"))\n",
    "display(array_to_latex(d, prefix=r\"\\mathbf{{A^{-1}}^\\dagger}=\"))\n",
    "\n",
    "display(\n",
    "    Math(\n",
    "        r\"\\mathbf{{A^{-1}}^\\dagger}\"\n",
    "        rf\"\\mathbf{{=A^\\dagger}}\"\n",
    "        rf\"\\;?\\;$$\\rightarrow$$\\;{np.isclose(c,d).all()}\"\n",
    "    )\n",
    ")\n"
   ]
  },
  {
   "cell_type": "code",
   "execution_count": 65,
   "id": "81361100-2e8d-44a9-9a34-4c7d6b4ad654",
   "metadata": {},
   "outputs": [
    {
     "data": {
      "text/latex": [
       "$$\n",
       "\\mathbf{A^2}=\n",
       "\\begin{bmatrix}\n",
       "9 & -9 + 40i & -13 - 84i & 21 + 20i  \\\\\n",
       " -9 - 40i & 81 & 45 + 28i & -60 - 32i  \\\\\n",
       " -13 + 84i & 45 - 28i & 324 & 8 - 6i  \\\\\n",
       " 21 - 20i & -60 + 32i & 8 + 6i & 1156  \\\\\n",
       " \\end{bmatrix}\n",
       "$$"
      ],
      "text/plain": [
       "<IPython.core.display.Latex object>"
      ]
     },
     "metadata": {},
     "output_type": "display_data"
    },
    {
     "data": {
      "text/latex": [
       "$$\n",
       "\\mathbf{{A^2}^\\dagger}=\n",
       "\\begin{bmatrix}\n",
       "9 & -9 + 40i & -13 - 84i & 21 + 20i  \\\\\n",
       " -9 - 40i & 81 & 45 + 28i & -60 - 32i  \\\\\n",
       " -13 + 84i & 45 - 28i & 324 & 8 - 6i  \\\\\n",
       " 21 - 20i & -60 + 32i & 8 + 6i & 1156  \\\\\n",
       " \\end{bmatrix}\n",
       "$$"
      ],
      "text/plain": [
       "<IPython.core.display.Latex object>"
      ]
     },
     "metadata": {},
     "output_type": "display_data"
    },
    {
     "data": {
      "text/latex": [
       "$\\displaystyle \\mathbf{{A^{2}}^\\dagger}\\mathbf{=A^2}\\;?\\;$$\\rightarrow$$\\;True$"
      ],
      "text/plain": [
       "<IPython.core.display.Math object>"
      ]
     },
     "metadata": {},
     "output_type": "display_data"
    }
   ],
   "source": [
    "#hermitian matrix raised to an integer yields a hermitian matrix\n",
    "\n",
    "#a raised to the second power\n",
    "e = np.power(a,2)\n",
    "\n",
    "#conjugate transpose of a squared\n",
    "f = e.conjugate().T\n",
    "\n",
    "display(array_to_latex(e, prefix=r\"\\mathbf{A^2}=\"))\n",
    "\n",
    "display(array_to_latex(f, prefix=r\"\\mathbf{{A^2}^\\dagger}=\"))\n",
    "\n",
    "\n",
    "display(\n",
    "    Math(\n",
    "        r\"\\mathbf{{A^{2}}^\\dagger}\"\n",
    "        rf\"\\mathbf{{=A^2}}\"\n",
    "        rf\"\\;?\\;$$\\rightarrow$$\\;{np.isclose(e,f).all()}\"\n",
    "    )\n",
    ")\n",
    "\n"
   ]
  },
  {
   "cell_type": "code",
   "execution_count": null,
   "id": "5b598509-e342-4b46-8b1e-d07c9fc7d85b",
   "metadata": {},
   "outputs": [],
   "source": []
  }
 ],
 "metadata": {
  "kernelspec": {
   "display_name": "Python 3 (ipykernel)",
   "language": "python",
   "name": "python3"
  },
  "language_info": {
   "codemirror_mode": {
    "name": "ipython",
    "version": 3
   },
   "file_extension": ".py",
   "mimetype": "text/x-python",
   "name": "python",
   "nbconvert_exporter": "python",
   "pygments_lexer": "ipython3",
   "version": "3.9.13"
  }
 },
 "nbformat": 4,
 "nbformat_minor": 5
}
