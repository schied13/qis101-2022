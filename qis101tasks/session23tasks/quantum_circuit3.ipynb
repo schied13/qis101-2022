{
 "cells": [
  {
   "cell_type": "code",
   "execution_count": 7,
   "id": "1d992055-a7e3-4d62-bc6e-e77b339e54bc",
   "metadata": {},
   "outputs": [
    {
     "ename": "NameError",
     "evalue": "name 'AerSimulator' is not defined",
     "output_type": "error",
     "traceback": [
      "\u001b[1;31m---------------------------------------------------------------------------\u001b[0m",
      "\u001b[1;31mNameError\u001b[0m                                 Traceback (most recent call last)",
      "Cell \u001b[1;32mIn[7], line 22\u001b[0m\n\u001b[0;32m     15\u001b[0m \u001b[38;5;28;01mfrom\u001b[39;00m \u001b[38;5;21;01mqiskit\u001b[39;00m\u001b[38;5;21;01m.\u001b[39;00m\u001b[38;5;21;01mquantum_info\u001b[39;00m \u001b[38;5;28;01mimport\u001b[39;00m Statevector\n\u001b[0;32m     16\u001b[0m \u001b[38;5;28;01mfrom\u001b[39;00m \u001b[38;5;21;01mqiskit\u001b[39;00m\u001b[38;5;21;01m.\u001b[39;00m\u001b[38;5;21;01mvisualization\u001b[39;00m \u001b[38;5;28;01mimport\u001b[39;00m (\n\u001b[0;32m     17\u001b[0m     array_to_latex,\n\u001b[0;32m     18\u001b[0m     plot_bloch_multivector,\n\u001b[0;32m     19\u001b[0m     plot_histogram,\n\u001b[0;32m     20\u001b[0m     plot_state_qsphere,\n\u001b[0;32m     21\u001b[0m )\n\u001b[1;32m---> 22\u001b[0m aerSim \u001b[38;5;241m=\u001b[39m \u001b[43mAerSimulator\u001b[49m()\n\u001b[0;32m     23\u001b[0m backend \u001b[38;5;241m=\u001b[39m Aer\u001b[38;5;241m.\u001b[39mget_backend(\u001b[38;5;124m\"\u001b[39m\u001b[38;5;124maer_simulator\u001b[39m\u001b[38;5;124m\"\u001b[39m)\n\u001b[0;32m     25\u001b[0m qc \u001b[38;5;241m=\u001b[39m QuantumCircuit(\u001b[38;5;241m7\u001b[39m,\u001b[38;5;241m1\u001b[39m)\u001b[38;5;66;03m# declare circuit of 7 qubits \u001b[39;00m\n",
      "\u001b[1;31mNameError\u001b[0m: name 'AerSimulator' is not defined"
     ]
    },
    {
     "ename": "",
     "evalue": "",
     "output_type": "error",
     "traceback": [
      "\u001b[1;31mThe Kernel crashed while executing code in the current cell or a previous cell. \n",
      "\u001b[1;31mPlease review the code in the cell(s) to identify a possible cause of the failure. \n",
      "\u001b[1;31mClick <a href='https://aka.ms/vscodeJupyterKernelCrash'>here</a> for more info. \n",
      "\u001b[1;31mView Jupyter <a href='command:jupyter.viewOutput'>log</a> for further details."
     ]
    }
   ],
   "source": [
    "#quantum_circuit3.ipynb\n",
    "\n",
    "\n",
    "import matplotlib.pyplot as plt\n",
    "import numpy as np\n",
    "import qiskit\n",
    "from IPython.display import Math\n",
    "from qiskit import (\n",
    "    ClassicalRegister,\n",
    "    QuantumCircuit,\n",
    "    QuantumRegister,\n",
    "    assemble\n",
    ")\n",
    "from qiskit_aer import AerSimulator as Aer\n",
    "from qiskit.quantum_info import Statevector\n",
    "from qiskit.visualization import (\n",
    "    array_to_latex,\n",
    "    plot_bloch_multivector,\n",
    "    plot_histogram,\n",
    "    plot_state_qsphere,\n",
    ")\n",
    "aerSim = AerSimulator()\n",
    "backend = Aer.get_backend(\"aer_simulator\")\n",
    "\n",
    "qc = QuantumCircuit(7,1)# declare circuit of 7 qubits \n",
    "\n",
    "\n",
    "#Apply hadamard gates to qubits 0,1,3,4\n",
    "qc.h(0)\n",
    "qc.h(1)\n",
    "qc.h(3)\n",
    "qc.h(4)\n",
    "#apply controlled controlled x gates \n",
    "qc.ccx(0,1,2)\n",
    "qc.ccx(3,4,5)\n",
    "qc.ccx(2,5,6)\n",
    "qc.save_statevector()#save final state vector\n",
    "#measure qubit 6\n",
    "qc.measure(6,0)\n",
    "result = execute(qc, backend, shots=100_000).result()\n",
    "counts = result.get_counts()\n",
    "\n",
    "\n",
    "sv = result.get_statevector()\n",
    "\n",
    "\n",
    "\n",
    "display(qc.draw(output=\"mpl\", scale=1.5))\n",
    "\n",
    "display(array_to_latex(sv, prefix=\"\\\\text{Statevector } = \"))\n",
    "\n",
    "\n",
    "display(plot_state_qsphere(sv))\n",
    "\n",
    "plot_histogram(counts, color=\"blue\")"
   ]
  },
  {
   "cell_type": "code",
   "execution_count": null,
   "id": "502b26c1-1767-42a1-a058-430042bbff96",
   "metadata": {},
   "outputs": [],
   "source": []
  }
 ],
 "metadata": {
  "kernelspec": {
   "display_name": "Python 3 (ipykernel)",
   "language": "python",
   "name": "python3"
  },
  "language_info": {
   "codemirror_mode": {
    "name": "ipython",
    "version": 3
   },
   "file_extension": ".py",
   "mimetype": "text/x-python",
   "name": "python",
   "nbconvert_exporter": "python",
   "pygments_lexer": "ipython3",
   "version": "3.9.18"
  }
 },
 "nbformat": 4,
 "nbformat_minor": 5
}
